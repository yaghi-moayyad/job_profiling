{
 "cells": [
  {
   "cell_type": "code",
   "execution_count": 5,
   "metadata": {},
   "outputs": [],
   "source": [
    "import pandas as pd\n",
    "from sklearn.tree import DecisionTreeClassifier\n",
    "from sklearn.model_selection import train_test_split\n",
    "from sklearn.metrics import accuracy_score, classification_report\n",
    "from joblib import dump, load"
   ]
  },
  {
   "cell_type": "code",
   "execution_count": 6,
   "metadata": {},
   "outputs": [
    {
     "data": {
      "text/plain": [
       "(1176, 118)"
      ]
     },
     "execution_count": 6,
     "metadata": {},
     "output_type": "execute_result"
    }
   ],
   "source": [
    "df = pd.read_csv('r_code/Output/Evaluation/CategorizedData.csv')\n",
    "df.shape"
   ]
  },
  {
   "cell_type": "code",
   "execution_count": 7,
   "metadata": {},
   "outputs": [
    {
     "name": "stdout",
     "output_type": "stream",
     "text": [
      "node\n",
      "Request_ID\n",
      "NationalID_Number\n",
      "informality\n",
      "employment_status\n",
      "NAF_member\n",
      "NAF_SSC_merge\n",
      "first_ind\n",
      "last_ind\n",
      "poverty_score\n",
      "start_date\n",
      "end_date\n",
      "job_search_start\n",
      "unempl_spell\n",
      "raw_exp\n",
      "Experience_NAF\n",
      "RegistrationdateintoNEES\n",
      "rep_job\n",
      "wage\n",
      "wage_adj\n",
      "econ_activity_tr\n",
      "reason_suspension_tr\n",
      "Governorate\n",
      "Name_tr\n",
      "Disabled_tr\n",
      "EducationalAttainment\n",
      "Head_Of_Family_National_Number\n",
      "Family_Member_Birth_Date\n",
      "no_member_HH\n",
      "head_of_HH\n",
      "unemployed_HH\n",
      "Family_Member_Sex\n",
      "IS_Alive\n",
      "Gender\n",
      "Gov_NAF\n",
      "Employment_Status_Name_tr\n",
      "Educ_NAF\n",
      "Education_Enrolled_Type_Name_tr\n",
      "Disability_NAF\n",
      "School_Type_Name_tr\n",
      "Profession_Type_Sector_Name_tr\n",
      "Profession_Type_Name_tr\n",
      "Desired_Professional_Training_tr\n",
      "Industry_industry_NAF\n",
      "Industry_occupation_NAF\n",
      "GOV_Name\n",
      "Head_Of_Family_Name\n",
      "Family_Member_Name\n",
      "Education_Level_Name\n",
      "Employment_Status_Name\n",
      "Profession_Type_Sector_Name\n",
      "Profession_Type_Name\n",
      "Desired_Professional_Training\n",
      "Type_of_Technical_Training_Desc\n",
      "Other_Desired_Profession\n",
      "Other_Profession\n",
      "Education_Enrolled_Type_Name\n",
      "School_Type_Name\n",
      "Health_Condition_Name\n",
      "company_name\n",
      "ind_name\n",
      "econ_activity\n",
      "reason_suspension\n",
      "suspension_code\n",
      "المحافظه\n",
      "JobSeekers_DateOfBirth\n",
      "Disabled\n",
      "Disabilities_Name_Ar\n",
      "Name\n",
      "رقمالخلوي\n",
      "المؤهلالعلمي\n",
      "التخصص\n",
      "الوظيفةالمطلوبة\n",
      "الحالةبالضمانحتى1792020\n",
      "اسمالشركةبالضمان\n",
      "تاريخالسريان\n",
      "تاريخالايقاف\n",
      "الراتب\n",
      "ApplicationPosts_HireDate\n",
      "Employers_Name\n",
      "EmployersClassifications_Name\n",
      "Governorates_Name_AR\n",
      "Disabilities_type\n",
      "Telephonenumber\n",
      "JobTitles_Name_AR\n",
      "hiring_frequency\n",
      "الحالةبالضمانالاجتماعيحتى17\n",
      "trained\n",
      "not_hiredMOL_trained\n",
      "matched_hiredMOL\n",
      "hired_MOL_office\n",
      "_merge_with_mol\n",
      "PS2\n",
      "_merge_with_poverty\n",
      "year\n",
      "date\n",
      "inflationrate\n",
      "merge_inflation\n",
      "infl_calc\n",
      "Age_NAF\n",
      "FirstJob_NAF\n",
      "InformalMember\n",
      "FormalMember\n",
      "WorkingMember\n",
      "WorkableMember\n",
      "InformalFamily\n",
      "FormalFamily\n",
      "UnemployedFamily\n",
      "FormallyUnemployedFamily\n",
      "FirstJob\n",
      "Experience\n",
      "Age\n",
      "Disability\n",
      "EducationLevel\n",
      "Cluster\n",
      "NameCluster\n",
      "Unity\n",
      "one\n",
      "[0 1]\n",
      "Employment_Status_Name\n",
      "عامل          44\n",
      "غير عامل    1106\n",
      "dtype: int64\n"
     ]
    }
   ],
   "source": [
    "# Experience\n",
    "# Age\n",
    "# Disability\n",
    "# EducationLevel\n",
    "# FirstJob\n",
    "\n",
    "# Cluster\n",
    "for i in df.columns:\n",
    "    print(i)\n",
    "\n",
    "print(df['FirstJob_NAF'].unique())\n",
    "\n",
    "print(df.groupby(by=['Employment_Status_Name']).size())"
   ]
  },
  {
   "cell_type": "code",
   "execution_count": 21,
   "metadata": {},
   "outputs": [
    {
     "name": "stdout",
     "output_type": "stream",
     "text": [
      "Gender\n",
      "Female    1176\n",
      "dtype: int64\n"
     ]
    },
    {
     "name": "stderr",
     "output_type": "stream",
     "text": [
      "/Users/moayyadyaghi/.virtualenvs/analytics/lib/python3.7/site-packages/pandas/core/series.py:4439: SettingWithCopyWarning: \n",
      "A value is trying to be set on a copy of a slice from a DataFrame\n",
      "\n",
      "See the caveats in the documentation: https://pandas.pydata.org/pandas-docs/stable/user_guide/indexing.html#returning-a-view-versus-a-copy\n",
      "  downcast=downcast,\n"
     ]
    }
   ],
   "source": [
    "data = df[['Experience','Age','Disability','EducationLevel','employment_status','Cluster', 'Governorate']]\n",
    "#data = data.dropna()\n",
    "print(df.groupby(by=['Gender']).size())\n",
    "\n",
    "data['employment_status'].fillna('Unemployed', inplace=True)\n",
    "\n",
    "dummy_cols = ['EducationLevel','employment_status','Governorate' ]\n",
    "dummies = pd.get_dummies(data[dummy_cols])\n",
    "\n",
    "data = pd.concat([data,dummies], axis=1)\n",
    "\n",
    "\n",
    "cols = []\n",
    "data.to_csv('dd.csv')\n",
    "for i in data.columns:\n",
    "    if i.startswith('EducationLevel_') or i.startswith('Governorate_') or i.startswith('employment_status_') or i.startswith('Disability_'):\n",
    "        cols.append(i)\n",
    "\n",
    "\n",
    "\n",
    "cols.append('Experience')\n",
    "cols.append('Age')\n",
    "#cols.append('Disability')\n",
    "\n",
    "\n",
    "\n",
    "X = data[cols]\n",
    "y = data['Cluster']\n",
    "X_train,X_test, y_train, y_test = train_test_split(X,y)"
   ]
  },
  {
   "cell_type": "code",
   "execution_count": 22,
   "metadata": {},
   "outputs": [
    {
     "name": "stdout",
     "output_type": "stream",
     "text": [
      "              precision    recall  f1-score   support\n",
      "\n",
      "           2       0.88      0.95      0.92        88\n",
      "           3       0.99      0.99      0.99       794\n",
      "\n",
      "    accuracy                           0.98       882\n",
      "   macro avg       0.94      0.97      0.95       882\n",
      "weighted avg       0.98      0.98      0.98       882\n",
      "\n",
      "              precision    recall  f1-score   support\n",
      "\n",
      "           2       0.88      1.00      0.94        38\n",
      "           3       1.00      0.98      0.99       256\n",
      "\n",
      "    accuracy                           0.98       294\n",
      "   macro avg       0.94      0.99      0.96       294\n",
      "weighted avg       0.98      0.98      0.98       294\n",
      "\n"
     ]
    },
    {
     "data": {
      "text/plain": [
       "['model.joblib']"
      ]
     },
     "execution_count": 22,
     "metadata": {},
     "output_type": "execute_result"
    }
   ],
   "source": [
    "\n",
    "model = DecisionTreeClassifier(max_depth=4)\n",
    "model.fit(X_train, y_train)\n",
    "\n",
    "train_predictions = model.predict(X_train)\n",
    "\n",
    "test_preictions = model.predict(X_test)\n",
    "print(classification_report(y_train,train_predictions))\n",
    "\n",
    "print(classification_report(y_test,test_preictions))\n",
    "\n",
    "\n",
    "dump(model, 'model.joblib')"
   ]
  },
  {
   "cell_type": "code",
   "execution_count": 23,
   "metadata": {},
   "outputs": [
    {
     "data": {
      "text/plain": [
       "Index(['EducationLevel_Bachelor or above', 'EducationLevel_Middle Diploma',\n",
       "       'EducationLevel_Secondary or Below', 'employment_status_Daily worker',\n",
       "       'employment_status_Housewife', 'employment_status_Informal worker',\n",
       "       'employment_status_Self-employed', 'employment_status_Unemployed',\n",
       "       'Governorate_Ajloun', 'Governorate_Al Aqaba', 'Governorate_Al Kirk',\n",
       "       'Governorate_Al Mafraq', 'Governorate_Amman', 'Governorate_Balqa',\n",
       "       'Governorate_Irbid', 'Governorate_Jarash', 'Governorate_Maadaba',\n",
       "       'Governorate_Maan', 'Governorate_Tafileh', 'Governorate_Zarqa',\n",
       "       'Experience', 'Age'],\n",
       "      dtype='object')"
      ]
     },
     "execution_count": 23,
     "metadata": {},
     "output_type": "execute_result"
    }
   ],
   "source": [
    "X.columns"
   ]
  }
 ],
 "metadata": {
  "kernelspec": {
   "display_name": "Python 3.7.3 64-bit ('analytics')",
   "metadata": {
    "interpreter": {
     "hash": "238dead8f541a4d1d62de1a6e111cf70c3119e375fd8c68b3659f4321d676e2c"
    }
   },
   "name": "python3"
  },
  "language_info": {
   "codemirror_mode": {
    "name": "ipython",
    "version": 3
   },
   "file_extension": ".py",
   "mimetype": "text/x-python",
   "name": "python",
   "nbconvert_exporter": "python",
   "pygments_lexer": "ipython3",
   "version": "3.7.3"
  },
  "orig_nbformat": 2
 },
 "nbformat": 4,
 "nbformat_minor": 2
}
